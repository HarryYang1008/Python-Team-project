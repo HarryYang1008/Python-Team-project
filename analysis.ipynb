{
 "cells": [
  {
   "cell_type": "markdown",
   "metadata": {},
   "source": [
    "# A2: Group Project\n",
    "##### Date: 2 / 20 / 2025\n",
    "\n",
    "    Group Members: Abi Joshua GEORG / Eri Yoshimoto / Hakeem GARCIA / Nattida TAVAROJN / Neha NAGABHUSHAN / Weikang YANG\n",
    "---"
   ]
  },
  {
   "cell_type": "markdown",
   "metadata": {},
   "source": [
    "## About Dataset\n",
    "### General Info\n",
    "##### Data source:\n",
    "> Kaggle: https://www.kaggle.com/datasets/keremkurt/diversity-equity-and-inclusion-measures-dataset?utm_source=chatgpt.com\n",
    "\n",
    "This data set is generated to simulate an employee data set of a company including sensitive information such as gender, sexual orientation, ethnicity, LGBTQ, and much more. The goal of this data set is to improve Diversity, Equity, and Inclusion in the workplace.\n",
    "\n",
    "### Survey Questions and Scores\n",
    "The main idea of the survey is to track whether the company's efforts in improving DEI actually work and to discover if any group(coming from different backgrounds such as different gender, ethnicity, sexual orientation etc.) falls behind. The survey can be repeated periodically to measure the impact of the company's efforts.\n",
    "\n",
    "There are 5 survey questions for each of the DEI categories. Survey scores of employees are also shown in the data set."
   ]
  },
  {
   "cell_type": "markdown",
   "metadata": {},
   "source": []
  }
 ],
 "metadata": {
  "language_info": {
   "name": "python"
  }
 },
 "nbformat": 4,
 "nbformat_minor": 2
}
